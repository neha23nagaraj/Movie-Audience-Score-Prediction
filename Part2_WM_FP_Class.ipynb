{
  "nbformat": 4,
  "nbformat_minor": 0,
  "metadata": {
    "colab": {
      "provenance": [],
      "mount_file_id": "10e8C7tjgtMAf73OyXY8q-WU5SqtJEmlq",
      "authorship_tag": "ABX9TyOzCiyqdCt6bqI/fw/9a5sg",
      "include_colab_link": true
    },
    "kernelspec": {
      "name": "python3",
      "display_name": "Python 3"
    },
    "language_info": {
      "name": "python"
    }
  },
  "cells": [
    {
      "cell_type": "markdown",
      "metadata": {
        "id": "view-in-github",
        "colab_type": "text"
      },
      "source": [
        "<a href=\"https://colab.research.google.com/github/neha23nagaraj/Movie-Audience-Score-Prediction/blob/main/Part2_WM_FP_Class.ipynb\" target=\"_parent\"><img src=\"https://colab.research.google.com/assets/colab-badge.svg\" alt=\"Open In Colab\"/></a>"
      ]
    },
    {
      "cell_type": "code",
      "source": [
        "import pandas as pd\n",
        "import numpy as np\n",
        "import re\n",
        "from sklearn.model_selection import train_test_split\n",
        "from sklearn.preprocessing import LabelEncoder\n",
        "from sklearn.feature_extraction.text import TfidfVectorizer\n",
        "from sklearn.metrics import accuracy_score, confusion_matrix\n",
        "from sklearn.ensemble import RandomForestClassifier, VotingClassifier\n",
        "from xgboost import XGBClassifier\n",
        "from sklearn.linear_model import LogisticRegression\n",
        "from sklearn.svm import SVC\n",
        "import matplotlib.pyplot as plt\n",
        "import seaborn as sns"
      ],
      "metadata": {
        "id": "cK9msZd4Yikp"
      },
      "execution_count": null,
      "outputs": []
    },
    {
      "cell_type": "code",
      "source": [
        "df = pd.read_csv('/content/drive/MyDrive/WebMining/rottentomatoes_movies.csv')\n",
        "df = df[df['Audience Score'].notna()]\n",
        "df['label'] = df['Audience Score'].apply(lambda x: 1 if x >= 50 else 0)"
      ],
      "metadata": {
        "id": "YbaypfPTYlXB"
      },
      "execution_count": null,
      "outputs": []
    },
    {
      "cell_type": "code",
      "source": [
        "df['Audience_Review_Count'] = df['Audience_Review_Count'] * 1000"
      ],
      "metadata": {
        "id": "UbxuH8y_sndR"
      },
      "execution_count": null,
      "outputs": []
    },
    {
      "cell_type": "code",
      "source": [
        "def duration_to_minutes(d):\n",
        "    try:\n",
        "        h = int(re.search(r'(\\d+)h', d).group(1)) if 'h' in d else 0\n",
        "        m = int(re.search(r'(\\d+)m', d).group(1)) if 'm' in d else 0\n",
        "        return h * 60 + m\n",
        "    except:\n",
        "        return np.nan\n",
        "\n",
        "df['Duration_mins'] = df['Duration'].astype(str).apply(duration_to_minutes)"
      ],
      "metadata": {
        "id": "Qz6Kd_p6Yml8"
      },
      "execution_count": null,
      "outputs": []
    },
    {
      "cell_type": "code",
      "source": [
        "df['Rating'] = df['Rating'].fillna('Unknown')\n",
        "df['Rating_encoded'] = LabelEncoder().fit_transform(df['Rating'])\n",
        "\n",
        "df['Genre'] = df['Genre'].astype(str).str.replace(r'/+', '', regex=True).str.strip()\n",
        "genre_dummies = df['Genre'].str.get_dummies(sep=', ')\n",
        "\n",
        "df['Director'] = df['Director'].fillna(\"Unknown\")\n",
        "top_directors = df['Director'].value_counts().head(10).index\n",
        "df['top_director'] = df['Director'].apply(lambda x: x if x in top_directors else \"Other\")\n",
        "director_dummies = pd.get_dummies(df['top_director'], prefix='dir')\n",
        "\n",
        "df['has_number_in_title'] = df['Title'].str.contains(r'\\d').astype(int)"
      ],
      "metadata": {
        "id": "LM8VLSZkYoDS"
      },
      "execution_count": null,
      "outputs": []
    },
    {
      "cell_type": "code",
      "source": [
        "tfidf = TfidfVectorizer(max_features=50, stop_words='english')\n",
        "tfidf_matrix = tfidf.fit_transform(df['Synopsis'].fillna(\"\")).toarray()\n",
        "tfidf_df = pd.DataFrame(tfidf_matrix, columns=[f'tfidf_{i}' for i in range(tfidf_matrix.shape[1])])"
      ],
      "metadata": {
        "id": "n9cDMHvwYpT8"
      },
      "execution_count": null,
      "outputs": []
    },
    {
      "cell_type": "code",
      "source": [
        "X = pd.concat([\n",
        "    df[['Rating_encoded', 'Critic_Score', 'Critic_Review_Count', 'Audience_Review_Count',\n",
        "        'Duration_mins', 'has_number_in_title']],\n",
        "    genre_dummies,\n",
        "    director_dummies,\n",
        "    tfidf_df\n",
        "], axis=1).fillna(0)\n",
        "\n",
        "y = df['label']"
      ],
      "metadata": {
        "id": "pUfQodM3Yqnf"
      },
      "execution_count": null,
      "outputs": []
    },
    {
      "cell_type": "code",
      "source": [
        "X_train, X_test, y_train, y_test = train_test_split(X, y, stratify=y, test_size=0.25, random_state=42)"
      ],
      "metadata": {
        "id": "Zyx-ZucdYsCI"
      },
      "execution_count": null,
      "outputs": []
    },
    {
      "cell_type": "code",
      "source": [
        "xgb_model = XGBClassifier(\n",
        "    use_label_encoder=False,\n",
        "    eval_metric='logloss',\n",
        "    n_estimators=400,\n",
        "    max_depth=6,\n",
        "    learning_rate=0.05,\n",
        "    scale_pos_weight=0.35/0.65,  # imbalance adjustment\n",
        "    random_state=42\n",
        ")\n",
        "xgb_model.fit(X_train, y_train)\n",
        "xgb_acc = xgb_model.score(X_test, y_test)\n",
        "print(\"✅ XGBoost Accuracy:\", round(xgb_acc * 100, 2), \"%\")"
      ],
      "metadata": {
        "colab": {
          "base_uri": "https://localhost:8080/"
        },
        "id": "A33bvpSLYtel",
        "outputId": "3549d238-9f5d-4576-acd1-cf9a4a363621"
      },
      "execution_count": null,
      "outputs": [
        {
          "output_type": "stream",
          "name": "stderr",
          "text": [
            "/usr/local/lib/python3.11/dist-packages/xgboost/core.py:158: UserWarning: [16:14:30] WARNING: /workspace/src/learner.cc:740: \n",
            "Parameters: { \"use_label_encoder\" } are not used.\n",
            "\n",
            "  warnings.warn(smsg, UserWarning)\n"
          ]
        },
        {
          "output_type": "stream",
          "name": "stdout",
          "text": [
            "✅ XGBoost Accuracy: 80.0 %\n"
          ]
        }
      ]
    },
    {
      "cell_type": "code",
      "source": [
        "y_pred = xgb_model.predict(X_test)\n",
        "cm = confusion_matrix(y_test, y_pred)\n",
        "sns.heatmap(cm, annot=True, fmt=\"d\", cmap=\"viridis\")\n",
        "plt.title(\"XGBoost Confusion Matrix\")\n",
        "plt.xlabel(\"Predicted\")\n",
        "plt.ylabel(\"Actual\")\n",
        "plt.show()"
      ],
      "metadata": {
        "colab": {
          "base_uri": "https://localhost:8080/",
          "height": 472
        },
        "id": "uhewRTgtYu5N",
        "outputId": "d893b2c8-62b5-4561-f9da-47bbfd98ff38"
      },
      "execution_count": null,
      "outputs": [
        {
          "output_type": "display_data",
          "data": {
            "text/plain": [
              "<Figure size 640x480 with 2 Axes>"
            ],
            "image/png": "[encoded data removed]"
          },
          "metadata": {}
        }
      ]
    }
  ]
}